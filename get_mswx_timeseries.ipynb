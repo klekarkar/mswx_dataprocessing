{
 "cells": [
  {
   "cell_type": "code",
   "execution_count": 6,
   "metadata": {},
   "outputs": [],
   "source": [
    "#The code runs on the mswx_data_funcs\n",
    "#import function to get timeseries data\n",
    "from mswx_data_funcs import get_gloh2o_timeseries"
   ]
  },
  {
   "cell_type": "markdown",
   "metadata": {},
   "source": [
    "\n",
    "These are the variable names to parse for each gloh20 climate variable:  \n",
    "\n",
    "Precipitation: 'precipitation' [mm/day]   \n",
    "Relative humidity: 'relative_humidity' [%]   \n",
    "Wind: 'wind_speed' [m/s]  \n",
    "Tmax: 'air_temperature' [degree_celcius]   \n",
    "Tmin: 'air_temperature' [degree_celcius]  \n",
    "Solar radiation: 'short-wave solar radiation: 'downward_shortwave_radiation'\n"
   ]
  },
  {
   "cell_type": "code",
   "execution_count": 9,
   "metadata": {},
   "outputs": [
    {
     "ename": "ImportError",
     "evalue": "cannot import name 'get_gloh2o_timeseries' from 'mswx_efficient' (w:\\VUB\\scripts\\MSWX\\mswx_efficient.py)",
     "output_type": "error",
     "traceback": [
      "\u001b[1;31m---------------------------------------------------------------------------\u001b[0m",
      "\u001b[1;31mImportError\u001b[0m                               Traceback (most recent call last)",
      "Cell \u001b[1;32mIn[9], line 2\u001b[0m\n\u001b[0;32m      1\u001b[0m \u001b[38;5;66;03m#Extract dataset\u001b[39;00m\n\u001b[1;32m----> 2\u001b[0m \u001b[38;5;28;01mfrom\u001b[39;00m \u001b[38;5;21;01mmswx_efficient\u001b[39;00m \u001b[38;5;28;01mimport\u001b[39;00m get_gloh2o_timeseries,process_file\n\u001b[0;32m      4\u001b[0m src_path\u001b[38;5;241m=\u001b[39m\u001b[38;5;124mr\u001b[39m\u001b[38;5;124m'\u001b[39m\u001b[38;5;124mE:\u001b[39m\u001b[38;5;124m\\\u001b[39m\u001b[38;5;124mMSWX_data\u001b[39m\u001b[38;5;124m\\\u001b[39m\u001b[38;5;124mDaily\u001b[39m\u001b[38;5;124m\\\u001b[39m\u001b[38;5;124mTmax\u001b[39m\u001b[38;5;124m'\u001b[39m\n\u001b[0;32m      5\u001b[0m var_stations_file\u001b[38;5;241m=\u001b[39m\u001b[38;5;124mr\u001b[39m\u001b[38;5;124m'\u001b[39m\u001b[38;5;124mE:\u001b[39m\u001b[38;5;124m\\\u001b[39m\u001b[38;5;124mMSWX_data\u001b[39m\u001b[38;5;124m\\\u001b[39m\u001b[38;5;124mDaily\u001b[39m\u001b[38;5;124m\\\u001b[39m\u001b[38;5;124mTmax\u001b[39m\u001b[38;5;124m\\\u001b[39m\u001b[38;5;124msample\u001b[39m\u001b[38;5;124m\\\u001b[39m\u001b[38;5;124mtemp_stations.csv\u001b[39m\u001b[38;5;124m'\u001b[39m\n",
      "\u001b[1;31mImportError\u001b[0m: cannot import name 'get_gloh2o_timeseries' from 'mswx_efficient' (w:\\VUB\\scripts\\MSWX\\mswx_efficient.py)"
     ]
    }
   ],
   "source": [
    "#Extract dataset\n",
    "from mswx_efficient import get_gloh2o_timeseries\n",
    "\n",
    "src_path=r'E:\\MSWX_data\\Daily\\Tmax'\n",
    "var_stations_file=r'E:\\MSWX_data\\Daily\\Tmax\\sample\\temp_stations.csv'\n",
    "\n",
    "glo_var='air_temperature'\n",
    "\n",
    "min_lon=32\n",
    "max_lon=40\n",
    "max_lat=10\n",
    "min_lat=-10\n",
    "\n",
    "get_gloh2o_timeseries(src_path,var_stations_file, glo_var, min_lon,max_lon,max_lat,min_lat)"
   ]
  }
 ],
 "metadata": {
  "kernelspec": {
   "display_name": "Python 3",
   "language": "python",
   "name": "python3"
  },
  "language_info": {
   "codemirror_mode": {
    "name": "ipython",
    "version": 3
   },
   "file_extension": ".py",
   "mimetype": "text/x-python",
   "name": "python",
   "nbconvert_exporter": "python",
   "pygments_lexer": "ipython3",
   "version": "3.11.5"
  }
 },
 "nbformat": 4,
 "nbformat_minor": 2
}
