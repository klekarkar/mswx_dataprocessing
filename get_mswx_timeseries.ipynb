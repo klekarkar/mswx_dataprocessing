{
 "cells": [
  {
   "cell_type": "code",
   "execution_count": 1,
   "metadata": {},
   "outputs": [],
   "source": [
    "#The code runs on the mswx_data_funcs\n",
    "#import function to get timeseries data\n",
    "from mswx_data_funcs import get_gloh2o_timeseries"
   ]
  },
  {
   "cell_type": "code",
   "execution_count": null,
   "metadata": {},
   "outputs": [
    {
     "data": {
      "text/plain": [
       "\"\\nThese are the variable names to parse for each gloh20 climate variable:  \\n\\nprecipitation: 'precipitation' [mm/day]  \\nrelative humidity: 'relative_humidity' [%]  \\nwind: 'wind_speed' [m/s]  \\nTmax: 'air_temperature' [degree_celcius]  \\nTmin: 'air_temperature' [degree_celcius]\\nsolar radiation: 'short-wave solar radiation: 'downward_shortwave_radiation'\\n\""
      ]
     },
     "execution_count": 69,
     "metadata": {},
     "output_type": "execute_result"
    }
   ],
   "source": [
    "\"\"\"\n",
    "These are the variable names to parse for each gloh20 climate variable:  \n",
    "\n",
    "precipitation: 'precipitation' [mm/day]  \n",
    "relative humidity: 'relative_humidity' [%]  \n",
    "wind: 'wind_speed' [m/s]  \n",
    "Tmax: 'air_temperature' [degree_celcius]  \n",
    "Tmin: 'air_temperature' [degree_celcius]\n",
    "solar radiation: 'short-wave solar radiation: 'downward_shortwave_radiation'\n",
    "\"\"\""
   ]
  },
  {
   "cell_type": "code",
   "execution_count": 16,
   "metadata": {},
   "outputs": [
    {
     "name": "stdout",
     "output_type": "stream",
     "text": [
      "Recorded data for sttmp1009\n"
     ]
    }
   ],
   "source": [
    "#Extract dataset\n",
    "src_path=r'E:\\MSWX_data\\Daily\\Tmax\\sample'\n",
    "var_stations_file=r'E:\\MSWX_data\\Daily\\Tmax\\sample\\temp_stations.csv'\n",
    "\n",
    "glo_var='air_temperature'\n",
    "\n",
    "min_lon=32\n",
    "max_lon=40\n",
    "max_lat=10\n",
    "min_lat=-10\n",
    "\n",
    "get_gloh2o_timeseries(src_path,var_stations_file, glo_var, min_lon,max_lon,max_lat,min_lat)"
   ]
  },
  {
   "cell_type": "code",
   "execution_count": 15,
   "metadata": {},
   "outputs": [
    {
     "data": {
      "text/html": [
       "<div>\n",
       "<style scoped>\n",
       "    .dataframe tbody tr th:only-of-type {\n",
       "        vertical-align: middle;\n",
       "    }\n",
       "\n",
       "    .dataframe tbody tr th {\n",
       "        vertical-align: top;\n",
       "    }\n",
       "\n",
       "    .dataframe thead th {\n",
       "        text-align: right;\n",
       "    }\n",
       "</style>\n",
       "<table border=\"1\" class=\"dataframe\">\n",
       "  <thead>\n",
       "    <tr style=\"text-align: right;\">\n",
       "      <th></th>\n",
       "      <th>ID</th>\n",
       "      <th>station_name</th>\n",
       "      <th>lat</th>\n",
       "      <th>lon</th>\n",
       "      <th>alt</th>\n",
       "    </tr>\n",
       "  </thead>\n",
       "  <tbody>\n",
       "    <tr>\n",
       "      <th>0</th>\n",
       "      <td>9</td>\n",
       "      <td>sttmp1009</td>\n",
       "      <td>-0.3155</td>\n",
       "      <td>34.881</td>\n",
       "      <td>1824</td>\n",
       "    </tr>\n",
       "  </tbody>\n",
       "</table>\n",
       "</div>"
      ],
      "text/plain": [
       "   ID station_name     lat     lon   alt\n",
       "0   9    sttmp1009 -0.3155  34.881  1824"
      ]
     },
     "execution_count": 15,
     "metadata": {},
     "output_type": "execute_result"
    }
   ],
   "source": [
    "import pandas as pd\n",
    "pd.read_csv(r\"E:\\MSWX_data\\Daily\\Tmax\\sample\\temp_stations.csv\")"
   ]
  }
 ],
 "metadata": {
  "kernelspec": {
   "display_name": "Python 3",
   "language": "python",
   "name": "python3"
  },
  "language_info": {
   "codemirror_mode": {
    "name": "ipython",
    "version": 3
   },
   "file_extension": ".py",
   "mimetype": "text/x-python",
   "name": "python",
   "nbconvert_exporter": "python",
   "pygments_lexer": "ipython3",
   "version": "3.11.5"
  }
 },
 "nbformat": 4,
 "nbformat_minor": 2
}
