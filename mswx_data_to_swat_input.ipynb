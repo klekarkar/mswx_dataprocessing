{
 "cells": [
  {
   "cell_type": "code",
   "execution_count": 1,
   "metadata": {},
   "outputs": [
    {
     "data": {
      "text/plain": [
       "'\\nscript to process MSWX_data to SWAT2012 format\\n'"
      ]
     },
     "execution_count": 1,
     "metadata": {},
     "output_type": "execute_result"
    }
   ],
   "source": [
    "\"\"\"\n",
    "script to process MSWX_data to SWAT2012 format\n",
    "\"\"\""
   ]
  },
  {
   "cell_type": "code",
   "execution_count": 1,
   "metadata": {},
   "outputs": [],
   "source": [
    "import pandas as pd\n",
    "import os \n",
    "import numpy as np\n",
    "import glob"
   ]
  },
  {
   "cell_type": "code",
   "execution_count": 9,
   "metadata": {},
   "outputs": [],
   "source": [
    "#define source directory and output path\n",
    "src_dir=r\"E:/MSWX_data/Daily/SW_radiation\"\n",
    "out_path = r\"E:/MSWX_data/mswx_swat_data\"\n",
    "\n",
    "#create a sub-folder within the outpath folder\n",
    "def create_path(folder_name):\n",
    "    parent_dir =os.getcwd() #path to parent folder\n",
    "    out_folder = folder_name\n",
    "    out_path = os.path.join(parent_dir, out_folder)\n",
    "    if not os.path.isdir(out_path):\n",
    "        os.makedirs(out_path)\n",
    "    #print(\"Your outputs will be written to:\", out_path)\n",
    "    \n",
    "    return out_path\n",
    "#import csv files and extract data corresponding to the simulation period\n",
    "data_files=glob.glob(os.path.join(src_dir, '*.csv'))\n",
    "for file in data_files:\n",
    "        #extract station name from file name\n",
    "        stat_name=os.path.basename(file).split('_')[0] \n",
    "        var_data=pd.read_csv(file, index_col='date')\n",
    "        data_sim=var_data['1981-01-01':'2016-12-31'] #model simulation period\n",
    "        data_sim.columns=['19810101'] #first date of the simulation period\n",
    "        os.chdir(out_path)\n",
    "\n",
    "        #create the folder to save outputs in SWAT2012 format\n",
    "        outpath=create_path('swatplus_met_data')\n",
    "        if os.path.basename(src_dir)=='RH': #if relative humidity, convert percent to decimal as mswx RH is %.\n",
    "             data_sim=np.round(data_sim/100,2)\n",
    "        elif os.path.basename(src_dir)=='SW_radiation':\n",
    "             data_sim=np.round(data_sim/11.57,2) #if solar radiation, convert Wm-2 tp MJ/m2\n",
    "        else:\n",
    "             data_sim=np.round(data_sim,2) #for precipitation, wind and temperature data\n",
    "        data_sim.to_csv(os.path.join(outpath, stat_name+'.txt'), index=False)"
   ]
  }
 ],
 "metadata": {
  "kernelspec": {
   "display_name": "base",
   "language": "python",
   "name": "python3"
  },
  "language_info": {
   "codemirror_mode": {
    "name": "ipython",
    "version": 3
   },
   "file_extension": ".py",
   "mimetype": "text/x-python",
   "name": "python",
   "nbconvert_exporter": "python",
   "pygments_lexer": "ipython3",
   "version": "3.11.5"
  }
 },
 "nbformat": 4,
 "nbformat_minor": 2
}
